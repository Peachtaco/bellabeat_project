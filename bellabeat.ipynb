{
 "cells": [
  {
   "attachments": {},
   "cell_type": "markdown",
   "metadata": {},
   "source": [
    "# Introduction\n",
    "This is my data analysis project for Bellabeat, a women's health tech company. The project utilizes Python, SQL, and Tableau to analyze user smart device data, aiming to uncover insights for optimizing Bellabeat's marketing strategy. It encompasses data preparation in PostgreSQL, thorough data cleaning, and detailed analysis, with the goal of providing actionable recommendations to enhance Bellabeat's engagement with its target audience and improve its digital marketing efforts.\n",
    "\n",
    "# Background\n",
    "Bellabeat was founded in 2013 by Urška Sršen and Sando Mur with the goal of developing beautifully designed technology that would inform and inspire women. The technology would collect data on activity, sleep, stress, and reproductive health to empower women with knowledge about their own health.\n",
    "\n",
    "Bellabeat products are available at a number of online retailers in addition to their website. The company has invested in traditional advertising media such as radio, billboards, print, and television, but focuses on digital marketing extensively. They have ads on Youtube and Google, and are active on multiple social media platforms including Facebook, Instagram, and Twitter.\n",
    "\n",
    "#### Bellabeat Products\n",
    "- **Bellabeat App:** provides users with health data related to their activity, sleep, stress, menstrual cycle, and mindfulness habits. \n",
    "- **Leaf:** A wellness tracker that can be worn as a bracelet, necklace, or clip and connects to the Bellabeat app to track activity, sleep, and stress.\n",
    "- **Time:** A wellness watch with smart technology and connects to the Bellabeat app to track user activity, sleep, and stress.\n",
    "- **Spring:** A water bottle with smart technology and connects to the Bellabeat app to track daily water intake.\n",
    "- **Bellabeat Membership:** A subscription-based membership program for users to have 24/7 access to fully personalized guidance on nutrition, activity, sleep, health and beauty, and mindfulness based on their lifestyle and goals."
   ]
  },
  {
   "attachments": {},
   "cell_type": "markdown",
   "metadata": {},
   "source": [
    "\n",
    "### Business Task\n",
    "\n",
    "Analyze smart device data to gain insight on how consumers use smart devices and answer the following questions:\n",
    "\n",
    "- What are some trends in smart device usage?\n",
    "- How could these trends apply to Bellabeat customers?\n",
    "- How could these trends help influence Bellabeat marketing strategy?\n"
   ]
  },
  {
   "attachments": {},
   "cell_type": "markdown",
   "metadata": {},
   "source": [
    "### Prepare Data\n",
    "\n",
    "The dataset was obtained from [Kaggle](https://www.kaggle.com/datasets/arashnic/fitbit). There were 18 CSV files containing FitBit tracker data from 33 users collected from 4/12/2016 to 5/12/2016. I deployed a PostgreSQL database on AWS and imported the CSV files to the database. After verifying that a table was created for each CSV file, I proceeded to simplify the dataset by combining and dropping tables.\n",
    "\n",
    "- The `dailycalories`, `dailyintensities`, and `dailysteps` tables where dropped as the data already existed in the `dailyactivity` table. \n",
    "- A new table with hourly data was created by joining the `hourlycalories`, `hourlyintensities`, and `hourlysteps` tables; the 3 tables were subsequently dropped.\n",
    "- Tables containing minute data were dropped as the data is too granular to extract any meaningful insights. \n",
    "\n",
    "In summary, the following tables were dropped:\n",
    "* `dailycalories`\n",
    "* `dailyintensities`\n",
    "* `dailysteps`\n",
    "* `hourlycalories`\n",
    "* `hourlyintensities`\n",
    "* `hourlysteps`\n",
    "* `minutecaloriesnarrow`\n",
    "* `minutecalorieswide`\n",
    "* `minuteintensitiesnarrow`\n",
    "* `minuteintensitieswide`\n",
    "* `minutemetsnarrow`\n",
    "* `minutesleep`\n",
    "* `minutestepsnarrow`\n",
    "* `minutestepswide`\n",
    "* `heartrate_seconds`\n",
    "* `weightloginfo`\n",
    "\n",
    "The following tables remained in the database:\n",
    "* `dailyactivity`\n",
    "* `hourlydata`\n",
    "* `sleepday`"
   ]
  },
  {
   "cell_type": "code",
   "execution_count": null,
   "metadata": {},
   "outputs": [],
   "source": [
    "#Import libraries\n",
    "import pandas as pd\n",
    "import psycopg2\n",
    "import sqlalchemy\n",
    "import csv\n",
    "import os\n",
    "%load_ext sql\n",
    "\n",
    "#Connect to SQL database\n",
    "connect_url = 'postgresql://{}:{}@{}:{}/{}'.format(user,password,host,port,db)\n",
    "engine = sqlalchemy.create_engine(connect_url)\n",
    "%sql $connect_url\n",
    "%config SqlMagic.displaycon = False"
   ]
  },
  {
   "cell_type": "code",
   "execution_count": 4,
   "metadata": {},
   "outputs": [],
   "source": [
    "#Read multiple CSV files and load into SQL database\n",
    "import glob \n",
    "import os\n",
    "file_names = glob.glob('data/*.csv')\n",
    "\n",
    "for names in file_names:\n",
    "    tablename = os.path.basename(names)\n",
    "    tablename, ext = os.path.splitext(tablename)\n",
    "    df = pd.read_csv(names)\n",
    "    df.columns = df.columns.str.lower() #convert column names to lower case\n",
    "    df.to_sql(tablename, engine, if_exists='replace', index=False)"
   ]
  },
  {
   "cell_type": "code",
   "execution_count": 7,
   "metadata": {
    "vscode": {
     "languageId": "sql"
    }
   },
   "outputs": [
    {
     "name": "stdout",
     "output_type": "stream",
     "text": [
      "18 rows affected.\n"
     ]
    },
    {
     "data": {
      "text/html": [
       "<table>\n",
       "    <thead>\n",
       "        <tr>\n",
       "            <th>table_name</th>\n",
       "        </tr>\n",
       "    </thead>\n",
       "    <tbody>\n",
       "        <tr>\n",
       "            <td>minutecalorieswide</td>\n",
       "        </tr>\n",
       "        <tr>\n",
       "            <td>minuteintensitiesnarrow</td>\n",
       "        </tr>\n",
       "        <tr>\n",
       "            <td>minuteintensitieswide</td>\n",
       "        </tr>\n",
       "        <tr>\n",
       "            <td>minutemetsnarrow</td>\n",
       "        </tr>\n",
       "        <tr>\n",
       "            <td>minutesleep</td>\n",
       "        </tr>\n",
       "        <tr>\n",
       "            <td>minutestepsnarrow</td>\n",
       "        </tr>\n",
       "        <tr>\n",
       "            <td>minutestepswide</td>\n",
       "        </tr>\n",
       "        <tr>\n",
       "            <td>sleepday</td>\n",
       "        </tr>\n",
       "        <tr>\n",
       "            <td>weightloginfo</td>\n",
       "        </tr>\n",
       "        <tr>\n",
       "            <td>dailyactivity</td>\n",
       "        </tr>\n",
       "        <tr>\n",
       "            <td>dailycalories</td>\n",
       "        </tr>\n",
       "        <tr>\n",
       "            <td>dailyintensities</td>\n",
       "        </tr>\n",
       "        <tr>\n",
       "            <td>dailysteps</td>\n",
       "        </tr>\n",
       "        <tr>\n",
       "            <td>heartrate_seconds</td>\n",
       "        </tr>\n",
       "        <tr>\n",
       "            <td>hourlycalories</td>\n",
       "        </tr>\n",
       "        <tr>\n",
       "            <td>hourlyintensities</td>\n",
       "        </tr>\n",
       "        <tr>\n",
       "            <td>hourlysteps</td>\n",
       "        </tr>\n",
       "        <tr>\n",
       "            <td>minutecaloriesnarrow</td>\n",
       "        </tr>\n",
       "    </tbody>\n",
       "</table>"
      ],
      "text/plain": [
       "[('minutecalorieswide',),\n",
       " ('minuteintensitiesnarrow',),\n",
       " ('minuteintensitieswide',),\n",
       " ('minutemetsnarrow',),\n",
       " ('minutesleep',),\n",
       " ('minutestepsnarrow',),\n",
       " ('minutestepswide',),\n",
       " ('sleepday',),\n",
       " ('weightloginfo',),\n",
       " ('dailyactivity',),\n",
       " ('dailycalories',),\n",
       " ('dailyintensities',),\n",
       " ('dailysteps',),\n",
       " ('heartrate_seconds',),\n",
       " ('hourlycalories',),\n",
       " ('hourlyintensities',),\n",
       " ('hourlysteps',),\n",
       " ('minutecaloriesnarrow',)]"
      ]
     },
     "execution_count": 7,
     "metadata": {},
     "output_type": "execute_result"
    }
   ],
   "source": [
    "%%sql\n",
    "-- Verify tables in database\n",
    "SELECT table_name\n",
    "FROM information_schema.tables\n",
    "WHERE table_schema = 'public';"
   ]
  },
  {
   "cell_type": "code",
   "execution_count": 8,
   "metadata": {
    "vscode": {
     "languageId": "sql"
    }
   },
   "outputs": [
    {
     "name": "stdout",
     "output_type": "stream",
     "text": [
      "22099 rows affected.\n"
     ]
    },
    {
     "data": {
      "text/plain": [
       "[]"
      ]
     },
     "execution_count": 8,
     "metadata": {},
     "output_type": "execute_result"
    }
   ],
   "source": [
    "%%sql\n",
    "-- Join hourly tables and create new table\n",
    "CREATE TABLE hourlydata AS(\n",
    "SELECT c.id,\n",
    "       c.activityhour,\n",
    "       c.calories,\n",
    "       i.totalintensity,\n",
    "       i.averageintensity,\n",
    "       s.steptotal\n",
    "FROM hourlycalories AS c\n",
    "FULL OUTER JOIN hourlyintensities AS i\n",
    "    ON c.id = i.id\n",
    "    AND c.activityhour = i.activityhour\n",
    "FULL OUTER JOIN hourlysteps AS s\n",
    "    ON i.id = s.id\n",
    "    AND i.activityhour = s.activityhour\n",
    ");"
   ]
  },
  {
   "cell_type": "code",
   "execution_count": 9,
   "metadata": {
    "vscode": {
     "languageId": "sql"
    }
   },
   "outputs": [
    {
     "name": "stdout",
     "output_type": "stream",
     "text": [
      "10 rows affected.\n"
     ]
    },
    {
     "data": {
      "text/html": [
       "<table>\n",
       "    <thead>\n",
       "        <tr>\n",
       "            <th>id</th>\n",
       "            <th>activityhour</th>\n",
       "            <th>calories</th>\n",
       "            <th>totalintensity</th>\n",
       "            <th>averageintensity</th>\n",
       "            <th>steptotal</th>\n",
       "        </tr>\n",
       "    </thead>\n",
       "    <tbody>\n",
       "        <tr>\n",
       "            <td>1503960366</td>\n",
       "            <td>4/12/2016 12:00:00 AM</td>\n",
       "            <td>81</td>\n",
       "            <td>20</td>\n",
       "            <td>0.333333</td>\n",
       "            <td>373</td>\n",
       "        </tr>\n",
       "        <tr>\n",
       "            <td>1503960366</td>\n",
       "            <td>4/12/2016 1:00:00 AM</td>\n",
       "            <td>61</td>\n",
       "            <td>8</td>\n",
       "            <td>0.133333</td>\n",
       "            <td>160</td>\n",
       "        </tr>\n",
       "        <tr>\n",
       "            <td>1503960366</td>\n",
       "            <td>4/12/2016 2:00:00 AM</td>\n",
       "            <td>59</td>\n",
       "            <td>7</td>\n",
       "            <td>0.116667</td>\n",
       "            <td>151</td>\n",
       "        </tr>\n",
       "        <tr>\n",
       "            <td>1503960366</td>\n",
       "            <td>4/12/2016 3:00:00 AM</td>\n",
       "            <td>47</td>\n",
       "            <td>0</td>\n",
       "            <td>0.0</td>\n",
       "            <td>0</td>\n",
       "        </tr>\n",
       "        <tr>\n",
       "            <td>1503960366</td>\n",
       "            <td>4/12/2016 4:00:00 AM</td>\n",
       "            <td>48</td>\n",
       "            <td>0</td>\n",
       "            <td>0.0</td>\n",
       "            <td>0</td>\n",
       "        </tr>\n",
       "        <tr>\n",
       "            <td>1503960366</td>\n",
       "            <td>4/12/2016 5:00:00 AM</td>\n",
       "            <td>48</td>\n",
       "            <td>0</td>\n",
       "            <td>0.0</td>\n",
       "            <td>0</td>\n",
       "        </tr>\n",
       "        <tr>\n",
       "            <td>1503960366</td>\n",
       "            <td>4/12/2016 6:00:00 AM</td>\n",
       "            <td>48</td>\n",
       "            <td>0</td>\n",
       "            <td>0.0</td>\n",
       "            <td>0</td>\n",
       "        </tr>\n",
       "        <tr>\n",
       "            <td>1503960366</td>\n",
       "            <td>4/12/2016 7:00:00 AM</td>\n",
       "            <td>47</td>\n",
       "            <td>0</td>\n",
       "            <td>0.0</td>\n",
       "            <td>0</td>\n",
       "        </tr>\n",
       "        <tr>\n",
       "            <td>1503960366</td>\n",
       "            <td>4/12/2016 8:00:00 AM</td>\n",
       "            <td>68</td>\n",
       "            <td>13</td>\n",
       "            <td>0.216667</td>\n",
       "            <td>250</td>\n",
       "        </tr>\n",
       "        <tr>\n",
       "            <td>1503960366</td>\n",
       "            <td>4/12/2016 9:00:00 AM</td>\n",
       "            <td>141</td>\n",
       "            <td>30</td>\n",
       "            <td>0.5</td>\n",
       "            <td>1864</td>\n",
       "        </tr>\n",
       "    </tbody>\n",
       "</table>"
      ],
      "text/plain": [
       "[(1503960366, '4/12/2016 12:00:00 AM', 81, 20, 0.333333, 373),\n",
       " (1503960366, '4/12/2016 1:00:00 AM', 61, 8, 0.133333, 160),\n",
       " (1503960366, '4/12/2016 2:00:00 AM', 59, 7, 0.116667, 151),\n",
       " (1503960366, '4/12/2016 3:00:00 AM', 47, 0, 0.0, 0),\n",
       " (1503960366, '4/12/2016 4:00:00 AM', 48, 0, 0.0, 0),\n",
       " (1503960366, '4/12/2016 5:00:00 AM', 48, 0, 0.0, 0),\n",
       " (1503960366, '4/12/2016 6:00:00 AM', 48, 0, 0.0, 0),\n",
       " (1503960366, '4/12/2016 7:00:00 AM', 47, 0, 0.0, 0),\n",
       " (1503960366, '4/12/2016 8:00:00 AM', 68, 13, 0.216667, 250),\n",
       " (1503960366, '4/12/2016 9:00:00 AM', 141, 30, 0.5, 1864)]"
      ]
     },
     "execution_count": 9,
     "metadata": {},
     "output_type": "execute_result"
    }
   ],
   "source": [
    "%%sql\n",
    "--Verify new table\n",
    "SELECT *\n",
    "FROM hourlydata\n",
    "LIMIT 10;"
   ]
  },
  {
   "cell_type": "code",
   "execution_count": 10,
   "metadata": {
    "vscode": {
     "languageId": "sql"
    }
   },
   "outputs": [
    {
     "name": "stdout",
     "output_type": "stream",
     "text": [
      "Done.\n",
      "3 rows affected.\n"
     ]
    },
    {
     "data": {
      "text/html": [
       "<table>\n",
       "    <thead>\n",
       "        <tr>\n",
       "            <th>table_name</th>\n",
       "        </tr>\n",
       "    </thead>\n",
       "    <tbody>\n",
       "        <tr>\n",
       "            <td>sleepday</td>\n",
       "        </tr>\n",
       "        <tr>\n",
       "            <td>dailyactivity</td>\n",
       "        </tr>\n",
       "        <tr>\n",
       "            <td>hourlydata</td>\n",
       "        </tr>\n",
       "    </tbody>\n",
       "</table>"
      ],
      "text/plain": [
       "[('sleepday',), ('dailyactivity',), ('hourlydata',)]"
      ]
     },
     "execution_count": 10,
     "metadata": {},
     "output_type": "execute_result"
    }
   ],
   "source": [
    "%%sql\n",
    "-- Drop tables not used\n",
    "DROP TABLE IF EXISTS dailycalories, dailyintensities, dailysteps, hourlycalories, hourlyintensities, hourlysteps, minutecaloriesnarrow, minutecalorieswide, minuteintensitiesnarrow, minuteintensitieswide, minutemetsnarrow, minutesleep, minutestepsnarrow, minutestepswide, heartrate_seconds, weightloginfo;\n",
    "\n",
    "-- Verify tables in database\n",
    "SELECT table_name\n",
    "FROM information_schema.tables\n",
    "WHERE table_schema = 'public';"
   ]
  },
  {
   "attachments": {},
   "cell_type": "markdown",
   "metadata": {},
   "source": [
    "### Clean Data\n",
    "\n",
    "3 Tables remained in the database: `dailyactivity`, `hourlydata`, and `sleepday`. After reviewing each table, including the column names and data types, I proceeded to check for any duplicates or null values.\n",
    "\n",
    "- In `sleepday` table, the `sleepday` column was renamed to sleepdate to avoid confusion.\n",
    "- In `sleepday` table, the `sleepdate` column was changed to a date data type.\n",
    "- In `dailyactivity` table, the `activitydate` column was changed to a date data type.\n",
    "- In `hourlydata` table, the `activityhour` column was changed to a timestamp data type.\n",
    "- Tables were checked for duplicate rows\n",
    "    - In `sleepday` table, 3 duplicate rows were found and deleted\n",
    "\n"
   ]
  },
  {
   "cell_type": "code",
   "execution_count": 28,
   "metadata": {
    "vscode": {
     "languageId": "sql"
    }
   },
   "outputs": [
    {
     "name": "stdout",
     "output_type": "stream",
     "text": [
      "26 rows affected.\n"
     ]
    },
    {
     "data": {
      "text/html": [
       "<table>\n",
       "    <thead>\n",
       "        <tr>\n",
       "            <th>table_name</th>\n",
       "            <th>column_name</th>\n",
       "            <th>data_type</th>\n",
       "        </tr>\n",
       "    </thead>\n",
       "    <tbody>\n",
       "        <tr>\n",
       "            <td>dailyactivity</td>\n",
       "            <td>activitydate</td>\n",
       "            <td>date</td>\n",
       "        </tr>\n",
       "        <tr>\n",
       "            <td>dailyactivity</td>\n",
       "            <td>calories</td>\n",
       "            <td>bigint</td>\n",
       "        </tr>\n",
       "        <tr>\n",
       "            <td>dailyactivity</td>\n",
       "            <td>fairlyactiveminutes</td>\n",
       "            <td>bigint</td>\n",
       "        </tr>\n",
       "        <tr>\n",
       "            <td>dailyactivity</td>\n",
       "            <td>id</td>\n",
       "            <td>bigint</td>\n",
       "        </tr>\n",
       "        <tr>\n",
       "            <td>dailyactivity</td>\n",
       "            <td>lightactivedistance</td>\n",
       "            <td>double precision</td>\n",
       "        </tr>\n",
       "        <tr>\n",
       "            <td>dailyactivity</td>\n",
       "            <td>lightlyactiveminutes</td>\n",
       "            <td>bigint</td>\n",
       "        </tr>\n",
       "        <tr>\n",
       "            <td>dailyactivity</td>\n",
       "            <td>loggedactivitiesdistance</td>\n",
       "            <td>double precision</td>\n",
       "        </tr>\n",
       "        <tr>\n",
       "            <td>dailyactivity</td>\n",
       "            <td>moderatelyactivedistance</td>\n",
       "            <td>double precision</td>\n",
       "        </tr>\n",
       "        <tr>\n",
       "            <td>dailyactivity</td>\n",
       "            <td>sedentaryactivedistance</td>\n",
       "            <td>double precision</td>\n",
       "        </tr>\n",
       "        <tr>\n",
       "            <td>dailyactivity</td>\n",
       "            <td>sedentaryminutes</td>\n",
       "            <td>bigint</td>\n",
       "        </tr>\n",
       "        <tr>\n",
       "            <td>dailyactivity</td>\n",
       "            <td>totaldistance</td>\n",
       "            <td>double precision</td>\n",
       "        </tr>\n",
       "        <tr>\n",
       "            <td>dailyactivity</td>\n",
       "            <td>totalsteps</td>\n",
       "            <td>bigint</td>\n",
       "        </tr>\n",
       "        <tr>\n",
       "            <td>dailyactivity</td>\n",
       "            <td>trackerdistance</td>\n",
       "            <td>double precision</td>\n",
       "        </tr>\n",
       "        <tr>\n",
       "            <td>dailyactivity</td>\n",
       "            <td>veryactivedistance</td>\n",
       "            <td>double precision</td>\n",
       "        </tr>\n",
       "        <tr>\n",
       "            <td>dailyactivity</td>\n",
       "            <td>veryactiveminutes</td>\n",
       "            <td>bigint</td>\n",
       "        </tr>\n",
       "        <tr>\n",
       "            <td>hourlydata</td>\n",
       "            <td>activityhour</td>\n",
       "            <td>timestamp without time zone</td>\n",
       "        </tr>\n",
       "        <tr>\n",
       "            <td>hourlydata</td>\n",
       "            <td>averageintensity</td>\n",
       "            <td>double precision</td>\n",
       "        </tr>\n",
       "        <tr>\n",
       "            <td>hourlydata</td>\n",
       "            <td>calories</td>\n",
       "            <td>bigint</td>\n",
       "        </tr>\n",
       "        <tr>\n",
       "            <td>hourlydata</td>\n",
       "            <td>id</td>\n",
       "            <td>bigint</td>\n",
       "        </tr>\n",
       "        <tr>\n",
       "            <td>hourlydata</td>\n",
       "            <td>steptotal</td>\n",
       "            <td>bigint</td>\n",
       "        </tr>\n",
       "        <tr>\n",
       "            <td>hourlydata</td>\n",
       "            <td>totalintensity</td>\n",
       "            <td>bigint</td>\n",
       "        </tr>\n",
       "        <tr>\n",
       "            <td>sleepday</td>\n",
       "            <td>id</td>\n",
       "            <td>bigint</td>\n",
       "        </tr>\n",
       "        <tr>\n",
       "            <td>sleepday</td>\n",
       "            <td>sleepdate</td>\n",
       "            <td>date</td>\n",
       "        </tr>\n",
       "        <tr>\n",
       "            <td>sleepday</td>\n",
       "            <td>totalminutesasleep</td>\n",
       "            <td>bigint</td>\n",
       "        </tr>\n",
       "        <tr>\n",
       "            <td>sleepday</td>\n",
       "            <td>totalsleeprecords</td>\n",
       "            <td>bigint</td>\n",
       "        </tr>\n",
       "        <tr>\n",
       "            <td>sleepday</td>\n",
       "            <td>totaltimeinbed</td>\n",
       "            <td>bigint</td>\n",
       "        </tr>\n",
       "    </tbody>\n",
       "</table>"
      ],
      "text/plain": [
       "[('dailyactivity', 'activitydate', 'date'),\n",
       " ('dailyactivity', 'calories', 'bigint'),\n",
       " ('dailyactivity', 'fairlyactiveminutes', 'bigint'),\n",
       " ('dailyactivity', 'id', 'bigint'),\n",
       " ('dailyactivity', 'lightactivedistance', 'double precision'),\n",
       " ('dailyactivity', 'lightlyactiveminutes', 'bigint'),\n",
       " ('dailyactivity', 'loggedactivitiesdistance', 'double precision'),\n",
       " ('dailyactivity', 'moderatelyactivedistance', 'double precision'),\n",
       " ('dailyactivity', 'sedentaryactivedistance', 'double precision'),\n",
       " ('dailyactivity', 'sedentaryminutes', 'bigint'),\n",
       " ('dailyactivity', 'totaldistance', 'double precision'),\n",
       " ('dailyactivity', 'totalsteps', 'bigint'),\n",
       " ('dailyactivity', 'trackerdistance', 'double precision'),\n",
       " ('dailyactivity', 'veryactivedistance', 'double precision'),\n",
       " ('dailyactivity', 'veryactiveminutes', 'bigint'),\n",
       " ('hourlydata', 'activityhour', 'timestamp without time zone'),\n",
       " ('hourlydata', 'averageintensity', 'double precision'),\n",
       " ('hourlydata', 'calories', 'bigint'),\n",
       " ('hourlydata', 'id', 'bigint'),\n",
       " ('hourlydata', 'steptotal', 'bigint'),\n",
       " ('hourlydata', 'totalintensity', 'bigint'),\n",
       " ('sleepday', 'id', 'bigint'),\n",
       " ('sleepday', 'sleepdate', 'date'),\n",
       " ('sleepday', 'totalminutesasleep', 'bigint'),\n",
       " ('sleepday', 'totalsleeprecords', 'bigint'),\n",
       " ('sleepday', 'totaltimeinbed', 'bigint')]"
      ]
     },
     "execution_count": 28,
     "metadata": {},
     "output_type": "execute_result"
    }
   ],
   "source": [
    "%%sql\n",
    "-- Review table columns and data types\n",
    "SELECT c.table_name,\n",
    "       c.column_name,\n",
    "       c.data_type\n",
    "FROM information_schema.columns c\n",
    "JOIN information_schema.tables t\n",
    "ON c.table_name = t.table_name\n",
    "WHERE c.table_schema = 'public'\n",
    "ORDER BY table_name, column_name;"
   ]
  },
  {
   "cell_type": "code",
   "execution_count": 35,
   "metadata": {
    "vscode": {
     "languageId": "sql"
    }
   },
   "outputs": [
    {
     "name": "stdout",
     "output_type": "stream",
     "text": [
      "10 rows affected.\n"
     ]
    },
    {
     "data": {
      "text/html": [
       "<table>\n",
       "    <thead>\n",
       "        <tr>\n",
       "            <th>id</th>\n",
       "            <th>sleepdate</th>\n",
       "            <th>totalsleeprecords</th>\n",
       "            <th>totalminutesasleep</th>\n",
       "            <th>totaltimeinbed</th>\n",
       "        </tr>\n",
       "    </thead>\n",
       "    <tbody>\n",
       "        <tr>\n",
       "            <td>1503960366</td>\n",
       "            <td>2016-04-12</td>\n",
       "            <td>1</td>\n",
       "            <td>327</td>\n",
       "            <td>346</td>\n",
       "        </tr>\n",
       "        <tr>\n",
       "            <td>1503960366</td>\n",
       "            <td>2016-04-13</td>\n",
       "            <td>2</td>\n",
       "            <td>384</td>\n",
       "            <td>407</td>\n",
       "        </tr>\n",
       "        <tr>\n",
       "            <td>1503960366</td>\n",
       "            <td>2016-04-15</td>\n",
       "            <td>1</td>\n",
       "            <td>412</td>\n",
       "            <td>442</td>\n",
       "        </tr>\n",
       "        <tr>\n",
       "            <td>1503960366</td>\n",
       "            <td>2016-04-16</td>\n",
       "            <td>2</td>\n",
       "            <td>340</td>\n",
       "            <td>367</td>\n",
       "        </tr>\n",
       "        <tr>\n",
       "            <td>1503960366</td>\n",
       "            <td>2016-04-17</td>\n",
       "            <td>1</td>\n",
       "            <td>700</td>\n",
       "            <td>712</td>\n",
       "        </tr>\n",
       "        <tr>\n",
       "            <td>1503960366</td>\n",
       "            <td>2016-04-19</td>\n",
       "            <td>1</td>\n",
       "            <td>304</td>\n",
       "            <td>320</td>\n",
       "        </tr>\n",
       "        <tr>\n",
       "            <td>1503960366</td>\n",
       "            <td>2016-04-20</td>\n",
       "            <td>1</td>\n",
       "            <td>360</td>\n",
       "            <td>377</td>\n",
       "        </tr>\n",
       "        <tr>\n",
       "            <td>1503960366</td>\n",
       "            <td>2016-04-21</td>\n",
       "            <td>1</td>\n",
       "            <td>325</td>\n",
       "            <td>364</td>\n",
       "        </tr>\n",
       "        <tr>\n",
       "            <td>1503960366</td>\n",
       "            <td>2016-04-23</td>\n",
       "            <td>1</td>\n",
       "            <td>361</td>\n",
       "            <td>384</td>\n",
       "        </tr>\n",
       "        <tr>\n",
       "            <td>1503960366</td>\n",
       "            <td>2016-04-24</td>\n",
       "            <td>1</td>\n",
       "            <td>430</td>\n",
       "            <td>449</td>\n",
       "        </tr>\n",
       "    </tbody>\n",
       "</table>"
      ],
      "text/plain": [
       "[(1503960366, datetime.date(2016, 4, 12), 1, 327, 346),\n",
       " (1503960366, datetime.date(2016, 4, 13), 2, 384, 407),\n",
       " (1503960366, datetime.date(2016, 4, 15), 1, 412, 442),\n",
       " (1503960366, datetime.date(2016, 4, 16), 2, 340, 367),\n",
       " (1503960366, datetime.date(2016, 4, 17), 1, 700, 712),\n",
       " (1503960366, datetime.date(2016, 4, 19), 1, 304, 320),\n",
       " (1503960366, datetime.date(2016, 4, 20), 1, 360, 377),\n",
       " (1503960366, datetime.date(2016, 4, 21), 1, 325, 364),\n",
       " (1503960366, datetime.date(2016, 4, 23), 1, 361, 384),\n",
       " (1503960366, datetime.date(2016, 4, 24), 1, 430, 449)]"
      ]
     },
     "execution_count": 35,
     "metadata": {},
     "output_type": "execute_result"
    }
   ],
   "source": [
    "%%sql\n",
    "SELECT *\n",
    "FROM sleepday\n",
    "LIMIT 10;"
   ]
  },
  {
   "cell_type": "code",
   "execution_count": null,
   "metadata": {
    "vscode": {
     "languageId": "sql"
    }
   },
   "outputs": [],
   "source": [
    "%%sql\n",
    "--Rename sleepday column\n",
    "ALTER TABLE sleepday\n",
    "RENAME COLUMN sleepday TO sleepdate;\n",
    "--Change activitydate type to date\n",
    "ALTER TABLE dailyactivity\n",
    "ALTER COLUMN activitydate TYPE date USING activitydate::date;\n",
    "--Change sleepdate type to date\n",
    "ALTER TABLE sleepday\n",
    "ALTER COLUMN sleepdate TYPE date USING sleepdate::date;\n",
    "--Change activityhour type to timestamp\n",
    "ALTER TABLE hourlydata\n",
    "ALTER COLUMN activityhour TYPE timestamp USING activityhour::timestamp;"
   ]
  },
  {
   "cell_type": "code",
   "execution_count": 26,
   "metadata": {
    "vscode": {
     "languageId": "sql"
    }
   },
   "outputs": [
    {
     "name": "stdout",
     "output_type": "stream",
     "text": [
      "0 rows affected.\n",
      "0 rows affected.\n",
      "0 rows affected.\n"
     ]
    },
    {
     "data": {
      "text/html": [
       "<table>\n",
       "    <thead>\n",
       "        <tr>\n",
       "            <th>column_name</th>\n",
       "        </tr>\n",
       "    </thead>\n",
       "    <tbody>\n",
       "    </tbody>\n",
       "</table>"
      ],
      "text/plain": [
       "[]"
      ]
     },
     "execution_count": 26,
     "metadata": {},
     "output_type": "execute_result"
    }
   ],
   "source": [
    "%%sql\n",
    "--Check for null values in tables\n",
    "SELECT column_name \n",
    "FROM information_schema.columns \n",
    "WHERE table_name = 'dailyactivity' \n",
    "AND table_schema = 'public' \n",
    "AND is_nullable = 'YES' \n",
    "AND EXISTS (\n",
    "    SELECT 1 FROM dailyactivity WHERE column_name IS NULL);\n",
    "\n",
    "SELECT column_name \n",
    "FROM information_schema.columns \n",
    "WHERE table_name = 'sleepday' \n",
    "AND table_schema = 'public' \n",
    "AND is_nullable = 'YES' \n",
    "AND EXISTS (\n",
    "    SELECT 1 FROM sleepday WHERE column_name IS NULL);\n",
    "\n",
    "SELECT column_name \n",
    "FROM information_schema.columns \n",
    "WHERE table_name = 'hourlydata' \n",
    "AND table_schema = 'public' \n",
    "AND is_nullable = 'YES' \n",
    "AND EXISTS (\n",
    "    SELECT 1 FROM hourlydata WHERE column_name IS NULL);"
   ]
  },
  {
   "cell_type": "code",
   "execution_count": 33,
   "metadata": {
    "vscode": {
     "languageId": "sql"
    }
   },
   "outputs": [
    {
     "name": "stdout",
     "output_type": "stream",
     "text": [
      "940 rows affected.\n",
      "22099 rows affected.\n",
      "5 rows affected.\n"
     ]
    },
    {
     "data": {
      "text/html": [
       "<table>\n",
       "    <thead>\n",
       "        <tr>\n",
       "            <th>id</th>\n",
       "            <th>sleepdate</th>\n",
       "            <th>count</th>\n",
       "        </tr>\n",
       "    </thead>\n",
       "    <tbody>\n",
       "        <tr>\n",
       "            <td>4388161847</td>\n",
       "            <td>2016-05-05</td>\n",
       "            <td>2</td>\n",
       "        </tr>\n",
       "        <tr>\n",
       "            <td>8378563200</td>\n",
       "            <td>2016-04-25</td>\n",
       "            <td>2</td>\n",
       "        </tr>\n",
       "        <tr>\n",
       "            <td>4702921684</td>\n",
       "            <td>2016-05-07</td>\n",
       "            <td>2</td>\n",
       "        </tr>\n",
       "        <tr>\n",
       "            <td>7086361926</td>\n",
       "            <td>2016-05-01</td>\n",
       "            <td>1</td>\n",
       "        </tr>\n",
       "        <tr>\n",
       "            <td>6962181067</td>\n",
       "            <td>2016-05-05</td>\n",
       "            <td>1</td>\n",
       "        </tr>\n",
       "    </tbody>\n",
       "</table>"
      ],
      "text/plain": [
       "[(4388161847, datetime.date(2016, 5, 5), 2),\n",
       " (8378563200, datetime.date(2016, 4, 25), 2),\n",
       " (4702921684, datetime.date(2016, 5, 7), 2),\n",
       " (7086361926, datetime.date(2016, 5, 1), 1),\n",
       " (6962181067, datetime.date(2016, 5, 5), 1)]"
      ]
     },
     "execution_count": 33,
     "metadata": {},
     "output_type": "execute_result"
    }
   ],
   "source": [
    "%%sql\n",
    "--Check for duplicates\n",
    "SELECT id,\n",
    "       activitydate,\n",
    "       COUNT(*)\n",
    "FROM dailyactivity\n",
    "GROUP BY id, activitydate\n",
    "ORDER BY COUNT(*) DESC;\n",
    "\n",
    "SELECT id,\n",
    "       activityhour,\n",
    "       COUNT(*)\n",
    "FROM hourlydata\n",
    "GROUP BY id, activityhour\n",
    "ORDER BY COUNT(*) DESC;\n",
    "\n",
    "SELECT id,\n",
    "       sleepdate,\n",
    "       COUNT(*)\n",
    "FROM sleepday\n",
    "GROUP BY id, sleepdate\n",
    "ORDER BY COUNT(*) DESC\n",
    "LIMIT 5;"
   ]
  },
  {
   "cell_type": "code",
   "execution_count": 36,
   "metadata": {
    "vscode": {
     "languageId": "sql"
    }
   },
   "outputs": [
    {
     "name": "stdout",
     "output_type": "stream",
     "text": [
      "3 rows affected.\n"
     ]
    },
    {
     "data": {
      "text/plain": [
       "[]"
      ]
     },
     "execution_count": 36,
     "metadata": {},
     "output_type": "execute_result"
    }
   ],
   "source": [
    "%%sql\n",
    "--Drop duplicates\n",
    "DELETE\n",
    "FROM sleepday\n",
    "WHERE ctid IN (SELECT ctid\n",
    "               FROM (SELECT ctid,\n",
    "                            ROW_NUMBER() OVER (PARTITION BY id, sleepday) AS rn\n",
    "                     FROM sleepday) AS temptable\n",
    "               WHERE rn > 1);"
   ]
  },
  {
   "attachments": {},
   "cell_type": "markdown",
   "metadata": {
    "vscode": {
     "languageId": "sql"
    }
   },
   "source": [
    "### Analyze Data\n",
    "\n",
    "After cleaning the data, I connected the dataset to Tableau to build visualizations and extract insights. My Tableau workbook can be found\n",
    "[here.](https://public.tableau.com/views/bellabeat_dashboard_16815197263150/Dashboard1?:language=en-US&:display_count=n&:origin=viz_share_link)\n",
    "<br>\n",
    "<br>\n",
    "\n",
    "![image](images/userdays_bar.png)\n",
    "\n",
    "This bar chart illustrates the number of days each user tracked their activity. The majority of users tracked their activity for at least 30 days. Only a subset of 22 users tracked their sleep activity and only 13 users tracked their sleep for more than 15 days.\n",
    "\n",
    "<br>\n",
    "<br>\n",
    "\n",
    "![image](images/activity_pie.png)\n",
    "<br>\n",
    "![image](images/activity_scatter.png)\n",
    "\n",
    "On average, most users remained sedentary for 81% of the day. The scatterplot demonstrates a positive correlation between the number of steps taken and the number of calories burned. \n",
    "\n",
    "<br>\n",
    "<br>\n",
    "\n",
    "![image](images/steps_calorie_line.png)\n",
    "![image](images/heatmap.png)\n",
    "\n",
    "We found that users are most active between 5PM and 7PM, and least active between 12AM and 5AM. However, on Saturday, there is an increase in user activity between 11AM and 2PM.\n"
   ]
  },
  {
   "attachments": {},
   "cell_type": "markdown",
   "metadata": {},
   "source": [
    "### Share Results\n",
    "- What are some trends in smart device usage?\n",
    "    - Most users tracked their activity for at least 30 days, but only 13 users tracked their sleep for more than 15 days.\n",
    "    - Users are most active between 5PM and 7PM, and least active between 12AM and 5AM. However, on Saturday, there is an increase in user activity between 11AM and 2PM.\n",
    "    - On average, most users remained sedentary for 81% of the day. \n",
    "    - The scatterplot demonstrates a positive correlation between the number of steps taken and the number of calories burned.\n",
    "- How could these trends apply to Bellabeat customers?\n",
    "    - It seems that a majority of users are not using their smart devices to track their sleep. The device might not be comfortable to wear to bed, the device may need to be taken off to charge the battery, or the user may not be aware of the sleep tracking freature. Bellabeat could create a marketing campaign to educate users on the sleep tracking feature and encourage them to track their sleep.\n",
    "    - We find that most users remain sedentary for most of the day. Bellabeat could create a marketing campaign to encourage users to be more active throughout the day with reminders to meet daily step goals. \n"
   ]
  }
 ],
 "metadata": {
  "kernelspec": {
   "display_name": "Python 3",
   "language": "python",
   "name": "python3"
  },
  "language_info": {
   "codemirror_mode": {
    "name": "ipython",
    "version": 3
   },
   "file_extension": ".py",
   "mimetype": "text/x-python",
   "name": "python",
   "nbconvert_exporter": "python",
   "pygments_lexer": "ipython3",
   "version": "3.10.4"
  },
  "orig_nbformat": 4,
  "vscode": {
   "interpreter": {
    "hash": "bb7b32d548d82b6a7ff40a390ea4827db719455eaed557f2375b621b2072d11f"
   }
  }
 },
 "nbformat": 4,
 "nbformat_minor": 2
}
